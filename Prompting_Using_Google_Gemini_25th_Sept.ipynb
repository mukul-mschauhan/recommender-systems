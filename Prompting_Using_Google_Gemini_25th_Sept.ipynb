{
  "nbformat": 4,
  "nbformat_minor": 0,
  "metadata": {
    "colab": {
      "provenance": []
    },
    "kernelspec": {
      "name": "python3",
      "display_name": "Python 3"
    },
    "language_info": {
      "name": "python"
    }
  },
  "cells": [
    {
      "cell_type": "code",
      "execution_count": 1,
      "metadata": {
        "id": "bR3hi66W1FFG",
        "colab": {
          "base_uri": "https://localhost:8080/"
        },
        "outputId": "99a22539-5caa-4b2e-a900-73886fe8522b"
      },
      "outputs": [
        {
          "output_type": "stream",
          "name": "stdout",
          "text": [
            "Requirement already satisfied: google-generativeai in /usr/local/lib/python3.10/dist-packages (0.7.2)\n",
            "Requirement already satisfied: google-ai-generativelanguage==0.6.6 in /usr/local/lib/python3.10/dist-packages (from google-generativeai) (0.6.6)\n",
            "Requirement already satisfied: google-api-core in /usr/local/lib/python3.10/dist-packages (from google-generativeai) (2.19.2)\n",
            "Requirement already satisfied: google-api-python-client in /usr/local/lib/python3.10/dist-packages (from google-generativeai) (2.137.0)\n",
            "Requirement already satisfied: google-auth>=2.15.0 in /usr/local/lib/python3.10/dist-packages (from google-generativeai) (2.27.0)\n",
            "Requirement already satisfied: protobuf in /usr/local/lib/python3.10/dist-packages (from google-generativeai) (3.20.3)\n",
            "Requirement already satisfied: pydantic in /usr/local/lib/python3.10/dist-packages (from google-generativeai) (2.9.2)\n",
            "Requirement already satisfied: tqdm in /usr/local/lib/python3.10/dist-packages (from google-generativeai) (4.66.5)\n",
            "Requirement already satisfied: typing-extensions in /usr/local/lib/python3.10/dist-packages (from google-generativeai) (4.12.2)\n",
            "Requirement already satisfied: proto-plus<2.0.0dev,>=1.22.3 in /usr/local/lib/python3.10/dist-packages (from google-ai-generativelanguage==0.6.6->google-generativeai) (1.24.0)\n",
            "Requirement already satisfied: googleapis-common-protos<2.0.dev0,>=1.56.2 in /usr/local/lib/python3.10/dist-packages (from google-api-core->google-generativeai) (1.65.0)\n",
            "Requirement already satisfied: requests<3.0.0.dev0,>=2.18.0 in /usr/local/lib/python3.10/dist-packages (from google-api-core->google-generativeai) (2.32.3)\n",
            "Requirement already satisfied: cachetools<6.0,>=2.0.0 in /usr/local/lib/python3.10/dist-packages (from google-auth>=2.15.0->google-generativeai) (5.5.0)\n",
            "Requirement already satisfied: pyasn1-modules>=0.2.1 in /usr/local/lib/python3.10/dist-packages (from google-auth>=2.15.0->google-generativeai) (0.4.1)\n",
            "Requirement already satisfied: rsa<5,>=3.1.4 in /usr/local/lib/python3.10/dist-packages (from google-auth>=2.15.0->google-generativeai) (4.9)\n",
            "Requirement already satisfied: httplib2<1.dev0,>=0.19.0 in /usr/local/lib/python3.10/dist-packages (from google-api-python-client->google-generativeai) (0.22.0)\n",
            "Requirement already satisfied: google-auth-httplib2<1.0.0,>=0.2.0 in /usr/local/lib/python3.10/dist-packages (from google-api-python-client->google-generativeai) (0.2.0)\n",
            "Requirement already satisfied: uritemplate<5,>=3.0.1 in /usr/local/lib/python3.10/dist-packages (from google-api-python-client->google-generativeai) (4.1.1)\n",
            "Requirement already satisfied: annotated-types>=0.6.0 in /usr/local/lib/python3.10/dist-packages (from pydantic->google-generativeai) (0.7.0)\n",
            "Requirement already satisfied: pydantic-core==2.23.4 in /usr/local/lib/python3.10/dist-packages (from pydantic->google-generativeai) (2.23.4)\n",
            "Requirement already satisfied: grpcio<2.0dev,>=1.33.2 in /usr/local/lib/python3.10/dist-packages (from google-api-core[grpc]!=2.0.*,!=2.1.*,!=2.10.*,!=2.2.*,!=2.3.*,!=2.4.*,!=2.5.*,!=2.6.*,!=2.7.*,!=2.8.*,!=2.9.*,<3.0.0dev,>=1.34.1->google-ai-generativelanguage==0.6.6->google-generativeai) (1.64.1)\n",
            "Requirement already satisfied: grpcio-status<2.0.dev0,>=1.33.2 in /usr/local/lib/python3.10/dist-packages (from google-api-core[grpc]!=2.0.*,!=2.1.*,!=2.10.*,!=2.2.*,!=2.3.*,!=2.4.*,!=2.5.*,!=2.6.*,!=2.7.*,!=2.8.*,!=2.9.*,<3.0.0dev,>=1.34.1->google-ai-generativelanguage==0.6.6->google-generativeai) (1.48.2)\n",
            "Requirement already satisfied: pyparsing!=3.0.0,!=3.0.1,!=3.0.2,!=3.0.3,<4,>=2.4.2 in /usr/local/lib/python3.10/dist-packages (from httplib2<1.dev0,>=0.19.0->google-api-python-client->google-generativeai) (3.1.4)\n",
            "Requirement already satisfied: pyasn1<0.7.0,>=0.4.6 in /usr/local/lib/python3.10/dist-packages (from pyasn1-modules>=0.2.1->google-auth>=2.15.0->google-generativeai) (0.6.1)\n",
            "Requirement already satisfied: charset-normalizer<4,>=2 in /usr/local/lib/python3.10/dist-packages (from requests<3.0.0.dev0,>=2.18.0->google-api-core->google-generativeai) (3.3.2)\n",
            "Requirement already satisfied: idna<4,>=2.5 in /usr/local/lib/python3.10/dist-packages (from requests<3.0.0.dev0,>=2.18.0->google-api-core->google-generativeai) (3.10)\n",
            "Requirement already satisfied: urllib3<3,>=1.21.1 in /usr/local/lib/python3.10/dist-packages (from requests<3.0.0.dev0,>=2.18.0->google-api-core->google-generativeai) (2.2.3)\n",
            "Requirement already satisfied: certifi>=2017.4.17 in /usr/local/lib/python3.10/dist-packages (from requests<3.0.0.dev0,>=2.18.0->google-api-core->google-generativeai) (2024.8.30)\n",
            "Collecting langchain\n",
            "  Downloading langchain-0.3.1-py3-none-any.whl.metadata (7.1 kB)\n",
            "Requirement already satisfied: PyYAML>=5.3 in /usr/local/lib/python3.10/dist-packages (from langchain) (6.0.2)\n",
            "Requirement already satisfied: SQLAlchemy<3,>=1.4 in /usr/local/lib/python3.10/dist-packages (from langchain) (2.0.35)\n",
            "Requirement already satisfied: aiohttp<4.0.0,>=3.8.3 in /usr/local/lib/python3.10/dist-packages (from langchain) (3.10.5)\n",
            "Requirement already satisfied: async-timeout<5.0.0,>=4.0.0 in /usr/local/lib/python3.10/dist-packages (from langchain) (4.0.3)\n",
            "Collecting langchain-core<0.4.0,>=0.3.6 (from langchain)\n",
            "  Downloading langchain_core-0.3.6-py3-none-any.whl.metadata (6.3 kB)\n",
            "Collecting langchain-text-splitters<0.4.0,>=0.3.0 (from langchain)\n",
            "  Downloading langchain_text_splitters-0.3.0-py3-none-any.whl.metadata (2.3 kB)\n",
            "Collecting langsmith<0.2.0,>=0.1.17 (from langchain)\n",
            "  Downloading langsmith-0.1.128-py3-none-any.whl.metadata (13 kB)\n",
            "Requirement already satisfied: numpy<2,>=1 in /usr/local/lib/python3.10/dist-packages (from langchain) (1.26.4)\n",
            "Requirement already satisfied: pydantic<3.0.0,>=2.7.4 in /usr/local/lib/python3.10/dist-packages (from langchain) (2.9.2)\n",
            "Requirement already satisfied: requests<3,>=2 in /usr/local/lib/python3.10/dist-packages (from langchain) (2.32.3)\n",
            "Collecting tenacity!=8.4.0,<9.0.0,>=8.1.0 (from langchain)\n",
            "  Downloading tenacity-8.5.0-py3-none-any.whl.metadata (1.2 kB)\n",
            "Requirement already satisfied: aiohappyeyeballs>=2.3.0 in /usr/local/lib/python3.10/dist-packages (from aiohttp<4.0.0,>=3.8.3->langchain) (2.4.0)\n",
            "Requirement already satisfied: aiosignal>=1.1.2 in /usr/local/lib/python3.10/dist-packages (from aiohttp<4.0.0,>=3.8.3->langchain) (1.3.1)\n",
            "Requirement already satisfied: attrs>=17.3.0 in /usr/local/lib/python3.10/dist-packages (from aiohttp<4.0.0,>=3.8.3->langchain) (24.2.0)\n",
            "Requirement already satisfied: frozenlist>=1.1.1 in /usr/local/lib/python3.10/dist-packages (from aiohttp<4.0.0,>=3.8.3->langchain) (1.4.1)\n",
            "Requirement already satisfied: multidict<7.0,>=4.5 in /usr/local/lib/python3.10/dist-packages (from aiohttp<4.0.0,>=3.8.3->langchain) (6.1.0)\n",
            "Requirement already satisfied: yarl<2.0,>=1.0 in /usr/local/lib/python3.10/dist-packages (from aiohttp<4.0.0,>=3.8.3->langchain) (1.11.1)\n",
            "Collecting jsonpatch<2.0,>=1.33 (from langchain-core<0.4.0,>=0.3.6->langchain)\n",
            "  Downloading jsonpatch-1.33-py2.py3-none-any.whl.metadata (3.0 kB)\n",
            "Requirement already satisfied: packaging<25,>=23.2 in /usr/local/lib/python3.10/dist-packages (from langchain-core<0.4.0,>=0.3.6->langchain) (24.1)\n",
            "Requirement already satisfied: typing-extensions>=4.7 in /usr/local/lib/python3.10/dist-packages (from langchain-core<0.4.0,>=0.3.6->langchain) (4.12.2)\n",
            "Collecting httpx<1,>=0.23.0 (from langsmith<0.2.0,>=0.1.17->langchain)\n",
            "  Downloading httpx-0.27.2-py3-none-any.whl.metadata (7.1 kB)\n",
            "Collecting orjson<4.0.0,>=3.9.14 (from langsmith<0.2.0,>=0.1.17->langchain)\n",
            "  Downloading orjson-3.10.7-cp310-cp310-manylinux_2_17_x86_64.manylinux2014_x86_64.whl.metadata (50 kB)\n",
            "\u001b[2K     \u001b[90m━━━━━━━━━━━━━━━━━━━━━━━━━━━━━━━━━━━━━━━━\u001b[0m \u001b[32m50.4/50.4 kB\u001b[0m \u001b[31m695.9 kB/s\u001b[0m eta \u001b[36m0:00:00\u001b[0m\n",
            "\u001b[?25hRequirement already satisfied: annotated-types>=0.6.0 in /usr/local/lib/python3.10/dist-packages (from pydantic<3.0.0,>=2.7.4->langchain) (0.7.0)\n",
            "Requirement already satisfied: pydantic-core==2.23.4 in /usr/local/lib/python3.10/dist-packages (from pydantic<3.0.0,>=2.7.4->langchain) (2.23.4)\n",
            "Requirement already satisfied: charset-normalizer<4,>=2 in /usr/local/lib/python3.10/dist-packages (from requests<3,>=2->langchain) (3.3.2)\n",
            "Requirement already satisfied: idna<4,>=2.5 in /usr/local/lib/python3.10/dist-packages (from requests<3,>=2->langchain) (3.10)\n",
            "Requirement already satisfied: urllib3<3,>=1.21.1 in /usr/local/lib/python3.10/dist-packages (from requests<3,>=2->langchain) (2.2.3)\n",
            "Requirement already satisfied: certifi>=2017.4.17 in /usr/local/lib/python3.10/dist-packages (from requests<3,>=2->langchain) (2024.8.30)\n",
            "Requirement already satisfied: greenlet!=0.4.17 in /usr/local/lib/python3.10/dist-packages (from SQLAlchemy<3,>=1.4->langchain) (3.1.1)\n",
            "Requirement already satisfied: anyio in /usr/local/lib/python3.10/dist-packages (from httpx<1,>=0.23.0->langsmith<0.2.0,>=0.1.17->langchain) (3.7.1)\n",
            "Collecting httpcore==1.* (from httpx<1,>=0.23.0->langsmith<0.2.0,>=0.1.17->langchain)\n",
            "  Downloading httpcore-1.0.5-py3-none-any.whl.metadata (20 kB)\n",
            "Requirement already satisfied: sniffio in /usr/local/lib/python3.10/dist-packages (from httpx<1,>=0.23.0->langsmith<0.2.0,>=0.1.17->langchain) (1.3.1)\n",
            "Collecting h11<0.15,>=0.13 (from httpcore==1.*->httpx<1,>=0.23.0->langsmith<0.2.0,>=0.1.17->langchain)\n",
            "  Downloading h11-0.14.0-py3-none-any.whl.metadata (8.2 kB)\n",
            "Collecting jsonpointer>=1.9 (from jsonpatch<2.0,>=1.33->langchain-core<0.4.0,>=0.3.6->langchain)\n",
            "  Downloading jsonpointer-3.0.0-py2.py3-none-any.whl.metadata (2.3 kB)\n",
            "Requirement already satisfied: exceptiongroup in /usr/local/lib/python3.10/dist-packages (from anyio->httpx<1,>=0.23.0->langsmith<0.2.0,>=0.1.17->langchain) (1.2.2)\n",
            "Downloading langchain-0.3.1-py3-none-any.whl (1.0 MB)\n",
            "\u001b[2K   \u001b[90m━━━━━━━━━━━━━━━━━━━━━━━━━━━━━━━━━━━━━━━━\u001b[0m \u001b[32m1.0/1.0 MB\u001b[0m \u001b[31m33.9 MB/s\u001b[0m eta \u001b[36m0:00:00\u001b[0m\n",
            "\u001b[?25hDownloading langchain_core-0.3.6-py3-none-any.whl (399 kB)\n",
            "\u001b[2K   \u001b[90m━━━━━━━━━━━━━━━━━━━━━━━━━━━━━━━━━━━━━━━━\u001b[0m \u001b[32m399.9/399.9 kB\u001b[0m \u001b[31m17.9 MB/s\u001b[0m eta \u001b[36m0:00:00\u001b[0m\n",
            "\u001b[?25hDownloading langchain_text_splitters-0.3.0-py3-none-any.whl (25 kB)\n",
            "Downloading langsmith-0.1.128-py3-none-any.whl (292 kB)\n",
            "\u001b[2K   \u001b[90m━━━━━━━━━━━━━━━━━━━━━━━━━━━━━━━━━━━━━━━━\u001b[0m \u001b[32m292.1/292.1 kB\u001b[0m \u001b[31m15.0 MB/s\u001b[0m eta \u001b[36m0:00:00\u001b[0m\n",
            "\u001b[?25hDownloading tenacity-8.5.0-py3-none-any.whl (28 kB)\n",
            "Downloading httpx-0.27.2-py3-none-any.whl (76 kB)\n",
            "\u001b[2K   \u001b[90m━━━━━━━━━━━━━━━━━━━━━━━━━━━━━━━━━━━━━━━━\u001b[0m \u001b[32m76.4/76.4 kB\u001b[0m \u001b[31m6.0 MB/s\u001b[0m eta \u001b[36m0:00:00\u001b[0m\n",
            "\u001b[?25hDownloading httpcore-1.0.5-py3-none-any.whl (77 kB)\n",
            "\u001b[2K   \u001b[90m━━━━━━━━━━━━━━━━━━━━━━━━━━━━━━━━━━━━━━━━\u001b[0m \u001b[32m77.9/77.9 kB\u001b[0m \u001b[31m6.1 MB/s\u001b[0m eta \u001b[36m0:00:00\u001b[0m\n",
            "\u001b[?25hDownloading jsonpatch-1.33-py2.py3-none-any.whl (12 kB)\n",
            "Downloading orjson-3.10.7-cp310-cp310-manylinux_2_17_x86_64.manylinux2014_x86_64.whl (141 kB)\n",
            "\u001b[2K   \u001b[90m━━━━━━━━━━━━━━━━━━━━━━━━━━━━━━━━━━━━━━━━\u001b[0m \u001b[32m141.9/141.9 kB\u001b[0m \u001b[31m10.0 MB/s\u001b[0m eta \u001b[36m0:00:00\u001b[0m\n",
            "\u001b[?25hDownloading jsonpointer-3.0.0-py2.py3-none-any.whl (7.6 kB)\n",
            "Downloading h11-0.14.0-py3-none-any.whl (58 kB)\n",
            "\u001b[2K   \u001b[90m━━━━━━━━━━━━━━━━━━━━━━━━━━━━━━━━━━━━━━━━\u001b[0m \u001b[32m58.3/58.3 kB\u001b[0m \u001b[31m4.7 MB/s\u001b[0m eta \u001b[36m0:00:00\u001b[0m\n",
            "\u001b[?25hInstalling collected packages: tenacity, orjson, jsonpointer, h11, jsonpatch, httpcore, httpx, langsmith, langchain-core, langchain-text-splitters, langchain\n",
            "  Attempting uninstall: tenacity\n",
            "    Found existing installation: tenacity 9.0.0\n",
            "    Uninstalling tenacity-9.0.0:\n",
            "      Successfully uninstalled tenacity-9.0.0\n",
            "Successfully installed h11-0.14.0 httpcore-1.0.5 httpx-0.27.2 jsonpatch-1.33 jsonpointer-3.0.0 langchain-0.3.1 langchain-core-0.3.6 langchain-text-splitters-0.3.0 langsmith-0.1.128 orjson-3.10.7 tenacity-8.5.0\n"
          ]
        }
      ],
      "source": [
        "# GOOGLE-API-KEY\n",
        "\n",
        "!pip install google-generativeai\n",
        "!pip install langchain"
      ]
    },
    {
      "cell_type": "code",
      "source": [
        "# Setup the Environment\n",
        "\n",
        "import google.generativeai as genai\n",
        "from google.colab import userdata\n",
        "\n",
        "google_api = userdata.get('GOOGLE-API-KEY')\n",
        "genai.configure(api_key=google_api)"
      ],
      "metadata": {
        "id": "Nwufykrc1yMM"
      },
      "execution_count": 2,
      "outputs": []
    },
    {
      "cell_type": "code",
      "source": [
        "# Google Gemini Model...\n",
        "model = genai.GenerativeModel(\"gemini-pro\")"
      ],
      "metadata": {
        "id": "kY621vki2h_i"
      },
      "execution_count": 3,
      "outputs": []
    },
    {
      "cell_type": "code",
      "source": [
        "# Sentiment Analysis\n",
        "\n",
        "text = '''I want you to give me the sentiment of the following text -\n",
        "@VirginAmerica it's really aggressive to blast obnoxious \\\n",
        "\"entertainment\" in your guests' faces &amp; they have little \\\n",
        "recourse'''\n",
        "\n",
        "response = model.generate_content(text)\n",
        "print(response.text)"
      ],
      "metadata": {
        "colab": {
          "base_uri": "https://localhost:8080/",
          "height": 35
        },
        "id": "Iyf4-qhF24EG",
        "outputId": "e1b5f4e6-0a18-4817-e906-c8aa9be68068"
      },
      "execution_count": null,
      "outputs": [
        {
          "output_type": "stream",
          "name": "stdout",
          "text": [
            "Negative\n"
          ]
        }
      ]
    },
    {
      "cell_type": "code",
      "source": [
        "prompt = '''Classify the following news into the following categories:\n",
        "J&K assembly election phase 2 polling today:\n",
        "Key candidates in fray.\n",
        "Note: Use your intelligence to classify the news appropriately.'''\n",
        "\n",
        "response = model.generate_content(prompt)\n",
        "\n",
        "print(response.text)"
      ],
      "metadata": {
        "colab": {
          "base_uri": "https://localhost:8080/",
          "height": 35
        },
        "id": "H6MqHSl-3vHH",
        "outputId": "e826951f-dbd3-47c7-fcd9-dbf4225a5f3e"
      },
      "execution_count": null,
      "outputs": [
        {
          "output_type": "stream",
          "name": "stdout",
          "text": [
            "Category: Political News\n"
          ]
        }
      ]
    },
    {
      "cell_type": "code",
      "source": [
        "roadmap = '''I am a beginner in the field of Data Science.\n",
        "I know Python, SQL, EDA, Stats and Machine Learning. I am very\n",
        "much drawn with Generative AI Models. I understand NLP is the base\n",
        "of these models. Can you help me in creating a roadmap for Learning\n",
        "NLP. I can easily devote 2 hours every day for learning and can you\n",
        "give me a learning roadmap for 30 days. Also define the topics in\n",
        "three clusters - Easy, Medium and Hard followed by Hackathons.\n",
        "Share the Link of the NLP Hackathons if possible.\n",
        "Give me all the information in  tabular format.'''\n",
        "response = model.generate_content(roadmap)\n",
        "print(response.text)\n"
      ],
      "metadata": {
        "colab": {
          "base_uri": "https://localhost:8080/",
          "height": 602
        },
        "id": "1tSdA7xYCViV",
        "outputId": "994f41fd-f8d0-43ef-94c0-cda588b52c22"
      },
      "execution_count": null,
      "outputs": [
        {
          "output_type": "stream",
          "name": "stdout",
          "text": [
            "## NLP Learning Roadmap for Beginners (30 Days)\n",
            "\n",
            "| **Cluster** | **Topics** |\n",
            "|---|---|\n",
            "| **Easy** | **Day 1-10** |\n",
            "|---|---|\n",
            "| Easy | Text Preprocessing (Tokenization, Removal of Stop Words, Stemming/Lemmatization) |\n",
            "| Easy | Text Representation (Bag-of-Words, TF-IDF) |\n",
            "| Easy | Sentiment Analysis (Basic) |\n",
            "| Easy | Named Entity Recognition (NER) |\n",
            "| Easy | Text Summarization (Simple) |\n",
            "| **Medium** | **Day 11-20** |\n",
            "|---|---|\n",
            "| Medium | Language Modeling (N-grams, RNNs) |\n",
            "| Medium | Machine Translation (Seq2Seq Models) |\n",
            "| Medium | Chatbots (Retrieval-Based and Generative) |\n",
            "| Medium | Text Classification (Advanced) |\n",
            "| Medium | Topic Modeling (LDA, LSA) |\n",
            "| **Hard** | **Day 21-30** |\n",
            "|---|---|\n",
            "| Hard | Generative AI Models (Transformers, BERT, GPT) |\n",
            "| Hard | Neural Machine Translation (NMT) |\n",
            "| Hard | Dialogue Systems (End-to-End Conversational Models) |\n",
            "| Hard | Advanced Text Representation Techniques (Word Embeddings) |\n",
            "| Hard | Natural Language Understanding (NLU) |\n",
            "\n",
            "## Hackathons\n",
            "\n",
            "- **NLP Hackathons**\n",
            "    - [NLP Hackathon](https://www.kaggle.com/code)\n",
            "    - [Text Analysis with Transformers](https://www.crowdai.org/challenges/text-analysis-with-transformers)\n",
            "    - [Natural Language Processing (NLP) Hackathon](https://www.hackathon.com/details/natural-language-processing-nlp-hackathon)\n"
          ]
        }
      ]
    },
    {
      "cell_type": "markdown",
      "source": [
        "### Resume Analysis using Google Gemini"
      ],
      "metadata": {
        "id": "uVV9Eb9oGMQH"
      }
    },
    {
      "cell_type": "code",
      "source": [
        "job_desc= '''About the job\n",
        "About PhonePe Group:\n",
        "\n",
        "PhonePe is India’s leading digital payments company with 50 crore (500 Million) registered users and 3.7 crore (37 Million) merchants covering over 99% of the postal codes across India. On the back of its leadership in digital payments, PhonePe has expanded into financial services (Insurance, Mutual Funds, Stock Broking, and Lending) as well as adjacent tech-enabled businesses such as Pincode for hyperlocal shopping and Indus App Store which is India's first localized App Store. The PhonePe Group is a portfolio of businesses aligned with the company's vision to offer every Indian an equal opportunity to accelerate their progress by unlocking the flow of money and access to services.\n",
        "\n",
        "Culture\n",
        "\n",
        "At PhonePe, we take extra care to make sure you give your best at work, Everyday! And creating the right environment for you is just one of the things we do. We empower people and trust them to do the right thing. Here, you own your work from start to finish, right from day one. Being enthusiastic about tech is a big part of being at PhonePe. If you like building technology that impacts millions, ideating with some of the best minds in the country and executing on your dreams with purpose and speed, join us!\n",
        "\n",
        "What kind of person are we looking for?\n",
        "\n",
        "First-principle problem solvers who are passionate about working with data and uncovering the stories that the numbers hide. If you're a curious mind and constantly questions the status-quo, then you'd fit right in with us.\n",
        "\n",
        "What would you get if you worked with us?\n",
        "\n",
        "You'll be closely working on problem statements and influencing decisions that impact 500M people. That's 30% of the country, if you're not keeping track. You'll get to interact with some of the smartest professionals that the country has to offer and get exposure to all facets of building a product and at scale. You get complete ownership and responsibility of all analytics support for your area - right from identifying the problem to presenting to the Leadership, if need be.\n",
        "\n",
        "What would you get to do in this role?\n",
        "\n",
        "Be an integral part of the CX strategy team and define the critical metrics to understand CX performance. Monitor performance trends and do data analysis for any interventions done to improve customer experience.\n",
        "Collaborate closely with the other CX teams like process design, Product operations, CX operations, Automation, etc. to highlight problems/inefficiencies and translate them into the right analytical problem statement\n",
        "Own the entire insight generation and build the CX story by working on deep, thorough analysis to provide unbiased answers on the identified problem statement. Also, come up with unidentified / unknown problem statements based on new data insights. These insights and decisions will be influenced based on your presentation of the evidence, backed by data-driven hypothesis\n",
        "Identify development needs in order to improve and streamline operations & other CX related problems on to the system.\n",
        "Move past just being the \"Data person\" and contribute with individual thoughts on how to improve the critical metrics for the CX function. We love people who think of themselves as the business owner and then go back to the data to prove or disprove the thought.\n",
        "Work with central analytics team to ensure that the dashboards are designed and built in a way that makes it easy for the teams to consume the data they need\n",
        "\n",
        "What do you need to have to apply for this position?\n",
        "\n",
        "Minimum 1-2 year of analytics experience in relevant roles\n",
        "Strong problem solving & analytical skills\n",
        "Penchant for business & curiosity to understand how the product works\n",
        "Intuition for data and ability to handle big data sources\n",
        "Strong working knowledge in Excel and visualization tools like PowerBI, Tableau, Qlik Sense\n",
        "Ability to clearly explain thoughts and ideas either verbally or in the written form.\n",
        "Candidates who are able to explain the story behind their analysis will find themselves at an advantage\n",
        "Ability to write complex queries on SQL to manipulate, consolidate multiple data sources for the purpose of dashboarding and analysis, is a pulse.\n",
        "Understanding of data-analysis languages such as R, Python and in core statistical concepts is good to have.\n",
        "Experience in building ML models is good-to-have, but not mandatory.\n",
        "\n",
        "PhonePe Full Time Employee Benefits (Not applicable for Intern or Contract Roles)\n",
        "\n",
        "Insurance Benefits - Medical Insurance, Critical Illness Insurance, Accidental Insurance, Life Insurance\n",
        "Wellness Program - Employee Assistance Program, Onsite Medical Center, Emergency Support System\n",
        "Parental Support - Maternity Benefit, Paternity Benefit Program, Adoption Assistance Program, Day-care Support Program\n",
        "Mobility Benefits - Relocation benefits, Transfer Support Policy, Travel Policy\n",
        "Retirement Benefits - Employee PF Contribution, Flexible PF Contribution, Gratuity, NPS, Leave Encashment\n",
        "Other Benefits - Higher Education Assistance, Car Lease, Salary Advance Policy '''"
      ],
      "metadata": {
        "id": "B7JOsKPnElOD"
      },
      "execution_count": null,
      "outputs": []
    },
    {
      "cell_type": "code",
      "source": [
        "# /content/Resume.pdf\n",
        "!pip install pypdf"
      ],
      "metadata": {
        "colab": {
          "base_uri": "https://localhost:8080/"
        },
        "id": "0d_PjK7WGUBV",
        "outputId": "34f17d2b-c001-4ed6-87db-6cfa58b20460"
      },
      "execution_count": null,
      "outputs": [
        {
          "output_type": "stream",
          "name": "stdout",
          "text": [
            "Requirement already satisfied: pypdf in /usr/local/lib/python3.10/dist-packages (5.0.0)\n",
            "Requirement already satisfied: typing_extensions>=4.0 in /usr/local/lib/python3.10/dist-packages (from pypdf) (4.12.2)\n"
          ]
        }
      ]
    },
    {
      "cell_type": "code",
      "source": [
        "from pypdf import PdfReader\n",
        "resume = PdfReader(\"/content/Resume.pdf\")\n",
        "\n",
        "resume_text = \"\"\n",
        "for page in resume.pages:\n",
        "  resume_text += page.extract_text()\n",
        "\n",
        "print(resume_text)"
      ],
      "metadata": {
        "colab": {
          "base_uri": "https://localhost:8080/"
        },
        "id": "uw4zFxpsGpvA",
        "outputId": "bf62b0ae-48ec-4781-dfb5-3c12db4e80bd"
      },
      "execution_count": null,
      "outputs": [
        {
          "output_type": "stream",
          "name": "stdout",
          "text": [
            "         SALMANI PRAVEENA   \n",
            "    Email  id: praveensalmani.15.9.99@gmail.com                                                                     Phone Number: 9880857269                        \n",
            "SUMMARY  \n",
            "▪ ‘’Artificial Intelligence and Machine Learning graduate passionate about data science and machine learning. Highly -\n",
            "capable in leadership, analytical individual with  strong communication and programming skills. Having led with \n",
            "multiple senior class project s to completion. Proficient in a range of modern technologies including Python, SQL and \n",
            "Statistics. ‘’ \n",
            "▪ LinkedIn  Profile : www.linkedin.com/in/salmani -praveena -a15a78sp   \n",
            "KEY SKILLS  \n",
            "● Languages : Python, SQL  \n",
            "● Operating System : Windows  \n",
            "● Skills : Machine Learning, Data Science, Exploratory Analysis, Statistics, Tableau, MS Excel and MS Word.  \n",
            "● Python : Seaborn, Matplotlib, NumPy, Pandas, Scikit -Learn(sklearn), Stats models  \n",
            "● IDE: Jupyter and Google Collaboratory  \n",
            "● Data Stores : Query and manipulate data in RDBMS, Proficient in working with SQL  \n",
            "● Data query and Data manipulation : SQL  \n",
            "● Supervised and Unsupervised Machine Learning : Machine Learning and Machine Learning Algorithms.  \n",
            "● Machine Learning Methods:  Classification, Regression, Prediction, Dimensionality reduction and Clustering.  \n",
            "● Professionalism : Presentation, Reporting, Collaboration and Consulting.  \n",
            "● Communication : Abel to work with diverse groups with excellent written and verbal communication.  \n",
            "● Reporting : Combine insights from an array of data sources into clear and actionable initiatives that drive strategic \n",
            "     advantage and solutions.  \n",
            "ACADEMIC PROJECTS  \n",
            "Project Title : Fusion of Credit Insights: A Machine Learning Approach to Optimized Loan Approvals . \n",
            "Description:  \n",
            "●  Developed a machine learning model to optimize loan approval processes by integrating insights from \n",
            "customer credit data.   \n",
            "● Analysed  customer credit histories and financial behaviours  to identify key predictors of loan eligibility.   \n",
            "● Implemented Logistic Regression, Random Forest, and XGBoost to classify loan approval decisions, optimizing \n",
            "lending strategies.  \n",
            "● Key skills : Exploratory Data Analysis ( EDA), Python, Machine Learning and Supervised Machine Learning , \n",
            "Featu re Engineering.  \n",
            " \n",
            "Project Title : House Price Prediction Using Machine Learning . \n",
            "   Description:  \n",
            "• Built a machine learning model to predict house prices based on various features such as square footage, number \n",
            "of bedrooms,  built year , renovated  year and more.  \n",
            "•  Conducted exploratory data analysis to identify key factors influencing house prices.  \n",
            "• Employed algorithms Linear Regression, Random Forest  for prediction and model building.    \n",
            "• Key skills:  EDA, Random Forest, Supervised Learning, Machine Learning , scikit learn , Linear Regress ion, Feature \n",
            "Engineering . \n",
            " \n",
            "EDUCATION  \n",
            "Course  Institution  Year  Result \n",
            "M.Tech  in Artificial Intelligence and \n",
            "Machine Learning  M.S Ramiah University of Applied Science , \n",
            "Bengaluru  2023 8.70 \n",
            "CGPA  \n",
            "B.E in Mechanical Engineering  Bheemanna Khandre Institute of \n",
            "Technology, Bhalki  2021  7.78 \n",
            "CGPA   \n",
            "PUC  Sri Bangi Basappa PU Science College, \n",
            "Harapanahalli  2017  60.66 %  SSLC  Rastrotthanna High School, \n",
            "Hagaribommanahalli  2015  76.80 %  \n",
            " \n",
            "OTHER ACHIEVEMENTS   \n",
            "• Upskilled  the D ata Science knowledge  in Gr eat Learning.   \n",
            "• Participating in Hackathons  competition .  \n",
            "• NPTEL Certification got in Engineering Drawing.  \n",
            "• Played a Zonal Level Cricket.  \n",
            "• Opens doubles Badminton Winner in Rotary club event.  \n",
            "  \n",
            " \n"
          ]
        }
      ]
    },
    {
      "cell_type": "code",
      "source": [
        "# ATS Score, Prob of Resume Getting ShortListed\n",
        "# Keyword Analysis, Improvements in the resume basis Job Desc\n",
        "\n",
        "prompt = '''compare the {job_desc} with the resume available under\n",
        "{resume_text} and give me the ATS Score of my resume along with\n",
        "Probability of the resume getting shortlisted.'''\n",
        "\n",
        "response = model.generate_content(prompt)\n",
        "print(response.text)\n",
        "\n",
        "print(response.text)"
      ],
      "metadata": {
        "colab": {
          "base_uri": "https://localhost:8080/",
          "height": 658
        },
        "id": "eEUBa1HyG1sM",
        "outputId": "ebd0ba8e-3ff2-4b48-d75d-1a52fd3f60b6"
      },
      "execution_count": null,
      "outputs": [
        {
          "output_type": "stream",
          "name": "stdout",
          "text": [
            "**ATS Score:**\n",
            "\n",
            "The ATS score of your resume is 72%. This is a good score and indicates that your resume is well-optimized for ATS systems.\n",
            "\n",
            "**Probability of the Resume Getting Shortlisted:**\n",
            "\n",
            "The probability of your resume getting shortlisted is high. Your resume is well-written and tailored to the job description, and it contains the keywords that ATS systems are looking for.\n",
            "\n",
            "**Comparison of Resume and Job Description:**\n",
            "\n",
            "Your resume aligns well with the requirements of the job description. You have highlighted your skills and experience in the following areas:\n",
            "\n",
            "* **Data Analysis:** You have experience in collecting, cleaning, and analyzing data. You are also proficient in using data visualization tools.\n",
            "* **Machine Learning:** You have experience in developing and deploying machine learning models. You are also familiar with deep learning techniques.\n",
            "* **Software Development:** You have experience in developing software applications using Python and R.\n",
            "\n",
            "Overall, your resume is a strong match for the job description. You have the skills and experience that the employer is looking for.\n",
            "**ATS Score:**\n",
            "\n",
            "The ATS score of your resume is 72%. This is a good score and indicates that your resume is well-optimized for ATS systems.\n",
            "\n",
            "**Probability of the Resume Getting Shortlisted:**\n",
            "\n",
            "The probability of your resume getting shortlisted is high. Your resume is well-written and tailored to the job description, and it contains the keywords that ATS systems are looking for.\n",
            "\n",
            "**Comparison of Resume and Job Description:**\n",
            "\n",
            "Your resume aligns well with the requirements of the job description. You have highlighted your skills and experience in the following areas:\n",
            "\n",
            "* **Data Analysis:** You have experience in collecting, cleaning, and analyzing data. You are also proficient in using data visualization tools.\n",
            "* **Machine Learning:** You have experience in developing and deploying machine learning models. You are also familiar with deep learning techniques.\n",
            "* **Software Development:** You have experience in developing software applications using Python and R.\n",
            "\n",
            "Overall, your resume is a strong match for the job description. You have the skills and experience that the employer is looking for.\n"
          ]
        }
      ]
    },
    {
      "cell_type": "code",
      "source": [
        "prompt = '''compare the {job_desc} with the resume available under\n",
        "{resume_text} and perform the keyword analysis and mention the keywords missing\n",
        "in bold. Also suggest how can I add those keywords. Please help\n",
        "me in building narratives in the resume using catchy phrases'''\n",
        "response = model.generate_content(prompt)\n",
        "print(response.text)\n"
      ],
      "metadata": {
        "colab": {
          "base_uri": "https://localhost:8080/",
          "height": 1000
        },
        "id": "hGyhONgiIL49",
        "outputId": "92a75c9c-bb26-4e51-e257-2eed47d69052"
      },
      "execution_count": null,
      "outputs": [
        {
          "output_type": "stream",
          "name": "stdout",
          "text": [
            "**Keyword Analysis**\n",
            "\n",
            "**Missing Keywords:**\n",
            "\n",
            "* **Project Management**\n",
            "* **Stakeholder Management**\n",
            "* **Agile Methodologies**\n",
            "* **Cloud Computing**\n",
            "* **Data Analysis**\n",
            "\n",
            "**Resume Improvement Suggestions:**\n",
            "\n",
            "**Add Keywords:**\n",
            "\n",
            "* **Project Management:**\n",
            "    * Highlight your experience in planning, executing, and managing projects from inception to completion.\n",
            "    * Use keywords like \"project charter,\" \"project lifecycle,\" and \"risk management.\"\n",
            "\n",
            "* **Stakeholder Management:**\n",
            "    * Emphasize your ability to engage with stakeholders, manage expectations, and build strong relationships.\n",
            "    * Mention roles such as \"client liaison\" or \"communication manager.\"\n",
            "\n",
            "* **Agile Methodologies:**\n",
            "    * Describe your experience with Agile methodologies, such as Scrum or Kanban.\n",
            "    * Highlight your understanding of sprints, retrospectives, and continuous improvement.\n",
            "\n",
            "* **Cloud Computing:**\n",
            "    * Discuss your proficiency in cloud platforms like AWS or Azure.\n",
            "    * Mention specific services you have used, such as EC2, S3, or Kubernetes.\n",
            "\n",
            "* **Data Analysis:**\n",
            "    * Showcase your skills in data analysis, data visualization, and interpretation.\n",
            "    * Use keywords like \"data mining,\" \"machine learning,\" and \"data storytelling.\"\n",
            "\n",
            "**Build Narratives with Catchy Phrases:**\n",
            "\n",
            "* **\"Led the implementation of a multi-year project that resulted in a 20% increase in productivity.\"**\n",
            "* **\"Collaborated with a diverse group of stakeholders to develop a shared vision and ensure alignment throughout the project lifecycle.\"**\n",
            "* **\"Successfully adopted Agile methodologies to improve team collaboration, reduce project timelines, and enhance overall project outcomes.\"**\n",
            "* **\"Deployed cloud-based infrastructure solutions that reduced operational costs by 30% and increased system uptime by 50%.\"**\n",
            "* **\"Leveraged data analysis to identify key trends, optimize decision-making, and drive business growth.\"**\n",
            "**Keyword Analysis**\n",
            "\n",
            "**Missing Keywords:**\n",
            "\n",
            "* **Project Management**\n",
            "* **Stakeholder Management**\n",
            "* **Agile Methodologies**\n",
            "* **Cloud Computing**\n",
            "* **Data Analysis**\n",
            "\n",
            "**Resume Improvement Suggestions:**\n",
            "\n",
            "**Add Keywords:**\n",
            "\n",
            "* **Project Management:**\n",
            "    * Highlight your experience in planning, executing, and managing projects from inception to completion.\n",
            "    * Use keywords like \"project charter,\" \"project lifecycle,\" and \"risk management.\"\n",
            "\n",
            "* **Stakeholder Management:**\n",
            "    * Emphasize your ability to engage with stakeholders, manage expectations, and build strong relationships.\n",
            "    * Mention roles such as \"client liaison\" or \"communication manager.\"\n",
            "\n",
            "* **Agile Methodologies:**\n",
            "    * Describe your experience with Agile methodologies, such as Scrum or Kanban.\n",
            "    * Highlight your understanding of sprints, retrospectives, and continuous improvement.\n",
            "\n",
            "* **Cloud Computing:**\n",
            "    * Discuss your proficiency in cloud platforms like AWS or Azure.\n",
            "    * Mention specific services you have used, such as EC2, S3, or Kubernetes.\n",
            "\n",
            "* **Data Analysis:**\n",
            "    * Showcase your skills in data analysis, data visualization, and interpretation.\n",
            "    * Use keywords like \"data mining,\" \"machine learning,\" and \"data storytelling.\"\n",
            "\n",
            "**Build Narratives with Catchy Phrases:**\n",
            "\n",
            "* **\"Led the implementation of a multi-year project that resulted in a 20% increase in productivity.\"**\n",
            "* **\"Collaborated with a diverse group of stakeholders to develop a shared vision and ensure alignment throughout the project lifecycle.\"**\n",
            "* **\"Successfully adopted Agile methodologies to improve team collaboration, reduce project timelines, and enhance overall project outcomes.\"**\n",
            "* **\"Deployed cloud-based infrastructure solutions that reduced operational costs by 30% and increased system uptime by 50%.\"**\n",
            "* **\"Leveraged data analysis to identify key trends, optimize decision-making, and drive business growth.\"**\n"
          ]
        }
      ]
    },
    {
      "cell_type": "code",
      "source": [
        "prompt = '''compare the {job_desc} with the resume available under\n",
        "{resume_text} and tell me in one sentence Am I good fit for the Job?'''\n",
        "response = model.generate_content(prompt)\n",
        "print(response.text)"
      ],
      "metadata": {
        "colab": {
          "base_uri": "https://localhost:8080/",
          "height": 55
        },
        "id": "m9zI6ucgJit6",
        "outputId": "cd14ade9-d388-40d4-d56b-b8b26639c4b2"
      },
      "execution_count": null,
      "outputs": [
        {
          "output_type": "stream",
          "name": "stdout",
          "text": [
            "Based on the comparison of the job description and your resume, you appear to possess strong foundational skills and relevant experience that make you a potentially good fit for the position.\n"
          ]
        }
      ]
    },
    {
      "cell_type": "code",
      "source": [
        "prompt = '''compare the {job_desc} with the resume available under\n",
        "{resume_text} and tailor my resume for the Job'''\n",
        "response = model.generate_content(prompt)\n",
        "print(response.text)"
      ],
      "metadata": {
        "colab": {
          "base_uri": "https://localhost:8080/",
          "height": 841
        },
        "id": "ftA1tR7MK9nI",
        "outputId": "e6b97962-2520-48fc-91e2-e31d89160e77"
      },
      "execution_count": null,
      "outputs": [
        {
          "output_type": "stream",
          "name": "stdout",
          "text": [
            "**Comparison of Job Description and Resume**\n",
            "\n",
            "**Job Description**\n",
            "\n",
            "* **Job Title:** Software Engineer\n",
            "* **Key Responsibilities:**\n",
            "    * Design and develop software applications\n",
            "    * Implement and maintain software solutions\n",
            "    * Collaborate with team members to deliver projects\n",
            "    * Troubleshoot and resolve technical issues\n",
            "* **Qualifications:**\n",
            "    * Bachelor's degree in Computer Science or a related field\n",
            "    * 3+ years of experience in software development\n",
            "    * Proficiency in Java, Python, and SQL\n",
            "    * Strong analytical and problem-solving skills\n",
            "    * Excellent communication and interpersonal skills\n",
            "\n",
            "**Resume**\n",
            "\n",
            "* **Name:** John Doe\n",
            "* **Education:**\n",
            "    * Bachelor of Science in Computer Science, University of California, Berkeley, GPA: 3.8\n",
            "* **Experience:**\n",
            "    * Software Engineer, ABC Technologies, 2 years\n",
            "        * Developed and implemented web applications using Java and Python\n",
            "        * Troubleshot and resolved technical issues related to software performance and scalability\n",
            "    * Software Developer Intern, XYZ Inc., 1 year\n",
            "        * Assisted in the design and development of mobile applications using Android SDK\n",
            "        * Contributed to the optimization and testing of software products\n",
            "* **Skills:**\n",
            "    * Java, Python, SQL, Android SDK, Git, Agile methodologies\n",
            "    * Strong analytical and problem-solving skills\n",
            "    * Excellent communication and interpersonal skills\n",
            "\n",
            "**Tailored Resume for the Job**\n",
            "\n",
            "To tailor the resume for the Software Engineer position, the following enhancements can be made:\n",
            "\n",
            "* **Highlight relevant experience:** Emphasize the software development responsibilities in both the internship and professional experience, showcasing proficiency in Java, Python, and SQL.\n",
            "* **Quantify accomplishments:** Provide specific examples of projects completed, including metrics that demonstrate the impact of the candidate's contributions.\n",
            "* **Align skills with job requirements:** Clearly state proficiency in the required technical skills, including Java, Python, and SQL, as well as experience with Agile methodologies and Git.\n",
            "* **Showcase analytical and problem-solving abilities:** Highlight successful troubleshooting and resolution of technical issues in previous roles.\n",
            "* **Strengthen communication and interpersonal skills:** Include specific instances where the candidate exhibited effective communication and collaboration with team members.\n",
            "* **Customize the objective statement:** Tailor the objective statement to specifically match the job requirements, emphasizing the candidate's interest in designing and developing software solutions.\n"
          ]
        }
      ]
    },
    {
      "cell_type": "code",
      "source": [
        "prompt = '''compare the {job_desc} with the resume available under\n",
        "{resume_text} and give me improvements suggestions with respect to the job'''\n",
        "response = model.generate_content(prompt)\n",
        "print(response.text)"
      ],
      "metadata": {
        "colab": {
          "base_uri": "https://localhost:8080/",
          "height": 512
        },
        "id": "HcNyrikqLPrR",
        "outputId": "46a69b27-ef76-40a7-af31-00ef4d11a3ae"
      },
      "execution_count": null,
      "outputs": [
        {
          "output_type": "stream",
          "name": "stdout",
          "text": [
            "**Improvement Suggestions for Resume based on {job_desc}**\n",
            "\n",
            "**1. Highlight Relevant Skills and Experience:**\n",
            "\n",
            "* The resume does not clearly highlight the skills and experience most relevant to the {job_desc}, such as [skill 1], [skill 2], and [skill 3].\n",
            "* **Suggestion:** Create a separate section for relevant skills, quantifying accomplishments whenever possible. Emphasize the use of specific tools and technologies mentioned in the job description.\n",
            "\n",
            "**2. Showcase Industry Knowledge and Technical Expertise:**\n",
            "\n",
            "* The resume lacks industry-specific knowledge and technical expertise that would demonstrate the candidate's understanding of the {job_desc} field.\n",
            "* **Suggestion:** Include a section or bullet points on relevant industry certifications, projects, or initiatives that demonstrate industry awareness and technical proficiency.\n",
            "\n",
            "**3. Tailor Resume to Job Requirements:**\n",
            "\n",
            "* The resume does not appear to be tailored specifically to the {job_desc} requirements.\n",
            "* **Suggestion:** Use keywords from the job description throughout the resume, particularly in the skills and experience sections. Highlight accomplishments that directly align with the company's goals and objectives.\n",
            "\n",
            "**4. Quantify Accomplishments and Use Action Verbs:**\n",
            "\n",
            "* The resume does not sufficiently quantify accomplishments or use strong action verbs to showcase the candidate's impact.\n",
            "* **Suggestion:** Use specific numbers and metrics to quantify results, and use action verbs that convey initiative and achievement. For example, instead of \"Managed a team of engineers,\" consider \"Led a team of engineers to implement a successful product launch, resulting in a 20% increase in revenue.\"\n",
            "\n",
            "**5. Proofread Carefully for Errors:**\n",
            "\n",
            "* The resume contains grammatical errors and typos.\n",
            "* **Suggestion:** Carefully proofread the resume before submitting it, paying close attention to grammar, spelling, and formatting. Any errors can negatively impact the candidate's credibility.\n"
          ]
        }
      ]
    },
    {
      "cell_type": "code",
      "source": [
        "prompt = '''compare the {job_desc} with the resume available under\n",
        "{resume_text} and give me list of real-world Projects/Hackathons/Competitions\n",
        "that I should do so that my chances of getting selected increases.\n",
        "Also, give me the Probability of Selection along with the Project Name'''\n",
        "response = model.generate_content(prompt)\n",
        "print(response.text)"
      ],
      "metadata": {
        "colab": {
          "base_uri": "https://localhost:8080/",
          "height": 92
        },
        "id": "ZO42go9-MDaT",
        "outputId": "2eb9de36-f161-4382-819f-fa7b49c6ff5b"
      },
      "execution_count": null,
      "outputs": [
        {
          "output_type": "stream",
          "name": "stdout",
          "text": [
            "I do not have access to the {job_desc} and {resume_text} files referenced in your query, so I cannot provide a comparison or a list of recommended projects. Please provide the necessary information for me to complete the analysis.\n",
            "\n",
            "Additionally, it is not possible for me to accurately estimate your probability of selection based solely on projects you complete. The selection process for a specific job will consider multiple factors, including your qualifications, experience, and the competitiveness of the hiring environment.\n"
          ]
        }
      ]
    },
    {
      "cell_type": "markdown",
      "source": [
        "### Few Shot Prompting\n",
        "\n",
        "* Between Zero Shot and Few Shot....the key difference is that in Zero Shot...we pass the instruction and we ask the LLM to perform the task....It means we rely solely on the intelligence of the LLM model used.\n",
        "\n",
        "* Few Shot - Giving some examples to the LLM by writing the examples in the Prompt itself...\n",
        "\n",
        "The benefit is that the LLM is able to understand precisly the information you are looking from it...."
      ],
      "metadata": {
        "id": "7i51MqVoPbY_"
      }
    },
    {
      "cell_type": "code",
      "source": [
        "# Few Shot...\n",
        "examples = [{\"input: I love studying Generative AI.\",\n",
        "\"output:Wǒ xǐhuān yánjiūshēng chéng réngōng zhìhuì\"},\n",
        " {\"input: I hate to do gym in the morning\",\n",
        "  \"output:Odio hacer gimnasio por la mañana.\"}]\n",
        "\n",
        "prompt = \"Translate in Kannada: I dont like Golf\"\n",
        "\n",
        "response = model.generate_content(prompt+\"\\n\\n{examples}\\n\\n\"+str(examples))\n",
        "print(response.text)"
      ],
      "metadata": {
        "id": "EThJ8TPKMfrY",
        "colab": {
          "base_uri": "https://localhost:8080/",
          "height": 34
        },
        "outputId": "0e11dbe2-5f17-4950-f278-da0e9e9a67f5"
      },
      "execution_count": 8,
      "outputs": [
        {
          "output_type": "stream",
          "name": "stdout",
          "text": [
            "ನನಗೆ ಗೋಲ್ಫ್ ಇಷ್ಟವಿಲ್ಲ\n"
          ]
        }
      ]
    },
    {
      "cell_type": "code",
      "source": [
        "# Generating the Query on the Basis of Examples\n",
        "\n",
        "examples = [{\"input\":\"Get All Employees from the 'employees' table\",\n",
        "             \"output\": \"SELECT *FROM employees\"},\n",
        " {\"input\": \"Find employees with salary greater than 25000\",\n",
        "  \"output\": \"SELECT * FROM employees WHERE salary>25000\"}]\n",
        "\n",
        "prompt = \"Write a SQL Query to get all the employee names in the 'sales' department\"\n",
        "\n",
        "response = model.generate_content(prompt+\"\\n\\n{examples}\\n\\n\"+str(examples))\n",
        "print(response.text)"
      ],
      "metadata": {
        "colab": {
          "base_uri": "https://localhost:8080/",
          "height": 104
        },
        "id": "8feKMU6QRmiO",
        "outputId": "9fc268dc-264d-4304-b77b-d6f2011ec4d3"
      },
      "execution_count": 9,
      "outputs": [
        {
          "output_type": "stream",
          "name": "stdout",
          "text": [
            "```sql\n",
            "SELECT name\n",
            "FROM employees\n",
            "WHERE department = 'sales';\n",
            "```\n"
          ]
        }
      ]
    },
    {
      "cell_type": "code",
      "source": [
        "# Zero Shot Prompting....\n",
        "prompt = '''Write a SQL Query to get all the employee names in the 'sales' department\n",
        "and the 2nd Highest Salary'''\n",
        "\n",
        "response = model.generate_content(prompt)\n",
        "print(response.text)"
      ],
      "metadata": {
        "colab": {
          "base_uri": "https://localhost:8080/",
          "height": 156
        },
        "id": "fVTw4rr2U7KS",
        "outputId": "b473b86a-1803-4a4c-c162-20752fa8d9bc"
      },
      "execution_count": 11,
      "outputs": [
        {
          "output_type": "stream",
          "name": "stdout",
          "text": [
            "```sql\n",
            "-- Select the name of the employee with the second highest salary in the 'Sales' department\n",
            "SELECT name\n",
            "FROM Employee\n",
            "WHERE department = 'Sales'\n",
            "AND salary = (SELECT MAX(salary) FROM Employee\n",
            "WHERE salary < (SELECT MAX(salary) FROM Employee))\n",
            "```\n"
          ]
        }
      ]
    },
    {
      "cell_type": "markdown",
      "source": [
        "### Chain of Thought"
      ],
      "metadata": {
        "id": "dZHev6fCWUQd"
      }
    },
    {
      "cell_type": "code",
      "source": [
        "# Should I go to Abroad for my Masters vs I continue my job here..\n",
        "\n",
        "prompt = '''Question: Act as a Career Expert and help me with the following question -\n",
        "Should I go to Abroad for my Masters vs I continue my job here?\n",
        "\n",
        "**Evaluating Options or Chain of Thought**\n",
        "\n",
        "1. **Assess the Current Situation**: My current situation is that I am working as a Data Scientist\n",
        "and I feel it is the right time to invest in my education and puruse a masters in AI from USA.\n",
        "I have done enough research on colleges and I feel IVY Leagues will be able to justify my hardwork if get selected.\n",
        "\n",
        "2. **Leaving Job is an Opportunity Cost**: I understand that I am in a stable role as a Data Scientist in an MNC and leaving work\n",
        "will envolve loosing money on the table which is like an Opportunity Cost and I am confused should I take the step or not?\n",
        "\n",
        "3. **Analyse Pros and Cons**: Since the degree is rewarding if it comes from IVY League, at the same time, it is extremely expensive.\n",
        "In fact, IITs also provide a similar challenging environment for learning in college and cost is much lesser.\n",
        "Let me tell you that I do have any financial constraints but my heart wants to be in US.\n",
        "\n",
        "Now, I want you to guide me in this dilemma and provide me options that are not only realistic but worth enacting too.\n",
        "'''\n",
        "\n",
        "response = model.generate_content(prompt)\n",
        "print(response.text)"
      ],
      "metadata": {
        "colab": {
          "base_uri": "https://localhost:8080/",
          "height": 696
        },
        "id": "dtV0OP4dVUb8",
        "outputId": "13de34c3-daf0-4c2f-e599-f912f09b0246"
      },
      "execution_count": 13,
      "outputs": [
        {
          "output_type": "stream",
          "name": "stdout",
          "text": [
            "**Evaluating Your Options**\n",
            "\n",
            "**Option 1: Pursue a Master's Degree Abroad**\n",
            "\n",
            "* **Pros:**\n",
            "    * Ivy League degree can significantly enhance your career prospects\n",
            "    * Exposure to a global network and industry leaders\n",
            "    * Potential for higher earning potential in the long term\n",
            "* **Cons:**\n",
            "    * Extremely expensive, potentially incurring significant debt\n",
            "    * Opportunity cost of leaving your current job\n",
            "\n",
            "**Option 2: Continue Your Job Here and Pursue a Master's Degree Locally**\n",
            "\n",
            "* **Pros:**\n",
            "    * Maintain your current income and avoid opportunity cost\n",
            "    * Less expensive than pursuing a degree abroad\n",
            "    * Can still benefit from quality education at IITs\n",
            "* **Cons:**\n",
            "    * May limit your global exposure and access to certain networks\n",
            "    * May not have the same level of prestige as an Ivy League degree\n",
            "\n",
            "**Options to Consider:**\n",
            "\n",
            "* **Pursue a Master's Degree Abroad Part-Time:** This allows you to continue working while earning your degree, reducing the financial burden and opportunity cost.\n",
            "* **Negotiate a Sabbatical from Your Employer:** Request a leave of absence from your job to pursue your studies, potentially with financial support from your employer.\n",
            "* **Consider a Hybrid Option:** Enroll in an online master's program offered by a reputable university in the US while continuing to work in India. This provides flexibility and the benefits of a global degree without the need to relocate.\n",
            "* **Explore Scholarships and Financial Aid:** Research scholarships and financial aid opportunities that can offset the costs of pursuing a master's degree abroad.\n",
            "\n",
            "**Recommendation:**\n",
            "\n",
            "Based on your financial situation and career aspirations, the hybrid option or negotiating a sabbatical are viable options to consider. These allow you to pursue your educational goals while minimizing the financial and opportunity costs.\n",
            "\n",
            "**Additional Considerations:**\n",
            "\n",
            "* Determine if the long-term career benefits of an Ivy League degree justify the significant financial investment.\n",
            "* Research the job market in both the US and India to understand the potential return on investment for your degree.\n",
            "* Seek guidance from mentors, career counselors, or alumni to gather insights and make an informed decision.\n"
          ]
        }
      ]
    },
    {
      "cell_type": "markdown",
      "source": [
        "### Example of Langchain"
      ],
      "metadata": {
        "id": "xRNMBhkip2zR"
      }
    },
    {
      "cell_type": "code",
      "source": [
        "#!pip install langchain-google-genai\n",
        "from langchain import PromptTemplate, LLMChain\n",
        "from langchain_google_genai import ChatGoogleGenerativeAI\n",
        "\n",
        "# Creating a Prompt Template\n",
        "\n",
        "demo_template = '''Act as a Dietician and answer questions related to health only\n",
        "and nothing else. If People start searching anything except food, weight loss, diseases, exercise and Yoga, just\n",
        "pass the message - \"Please ask questions related to Health Only. So now answer the following: - {prompt} \"'''\n",
        "template = PromptTemplate(input_variables=[\"prompt\"], template=demo_template)\n",
        "#template.format(prompt = \"Yoga Exercise\")\n",
        "\n",
        "llm = ChatGoogleGenerativeAI(model = \"gemini-pro\", api_key=google_api)\n",
        "llm_chain = LLMChain(prompt=template, llm=llm)\n",
        "llm_chain.run(\"Breakfast for Cough and Cold Treatment\")\n"
      ],
      "metadata": {
        "colab": {
          "base_uri": "https://localhost:8080/",
          "height": 175
        },
        "id": "VUf2cbDOYLoN",
        "outputId": "2313a9f1-0822-4e84-b229-a63c811c79eb"
      },
      "execution_count": 34,
      "outputs": [
        {
          "output_type": "execute_result",
          "data": {
            "text/plain": [
              "'**Breakfast for Cough and Cold Treatment**\\n\\n**Oatmeal with Berries and Honey**\\n\\n* Oatmeal is rich in fiber, which helps boost the immune system and reduce inflammation.\\n* Berries are high in antioxidants, which help fight off infection.\\n* Honey has antibacterial and antiviral properties that can soothe a sore throat.\\n\\n**Smoothie with Fruits, Vegetables, and Yogurt**\\n\\n* Fruits and vegetables provide vitamins, minerals, and antioxidants that support immune function.\\n* Yogurt contains probiotics, which can help improve gut health and reduce inflammation.\\n\\n**Scrambled Eggs with Spinach and Mushrooms**\\n\\n* Eggs are a good source of protein, which is essential for healing.\\n* Spinach is rich in vitamin C, which is important for immune function.\\n* Mushrooms contain beta-glucans, which have antiviral and antibacterial properties.\\n\\n**Other Tips for Treating Cough and Cold**\\n\\n* Drink plenty of fluids, such as water, tea, or soup.\\n* Get plenty of rest.\\n* Use a humidifier to add moisture to the air.\\n* Gargle with salt water to soothe a sore throat.\\n* Avoid sugary drinks and processed foods, as they can suppress the immune system.'"
            ],
            "application/vnd.google.colaboratory.intrinsic+json": {
              "type": "string"
            }
          },
          "metadata": {},
          "execution_count": 34
        }
      ]
    },
    {
      "cell_type": "markdown",
      "source": [
        "### Building Article Summarizer using Langchain"
      ],
      "metadata": {
        "id": "bdoRZvXYvXGF"
      }
    },
    {
      "cell_type": "code",
      "source": [
        "article = \"https://www.gadgets360.com/mobiles/news/samsung-s25-plus-us-variant-geekbench-listing-specifications-galaxy-6648108\"\n",
        "\n",
        "from langchain import PromptTemplate, LLMChain\n",
        "from langchain_google_genai import ChatGoogleGenerativeAI\n",
        "\n",
        "# Beatiful Soup meant for Web Scraping...\n",
        "# Accessing the article requires requests...\n",
        "import requests\n",
        "\n",
        "def fetch_article(url):\n",
        "  url_response = requests.get(url)\n",
        "  return(url_response.text) # Return the text of the Article...\n",
        "\n",
        "# Prompt Template\n",
        "article_template = PromptTemplate(input_variables = [\"Data_Science\"],\n",
        "                          template = '''This is an Article on \\n{Data_Science}\\n\n",
        "                          Summarize the Article in 5 sentences''')\n",
        "\n",
        "# Fetch the Article using requests library..\n",
        "article_text = fetch_article(article)\n",
        "\n",
        "# Reduce the article size to the first 5000 characters\n",
        "article_text = article_text[:10000]\n",
        "\n",
        "# LLM Model...\n",
        "llm = ChatGoogleGenerativeAI(model = \"gemini-pro\", api_key=google_api)\n",
        "llm_chain = LLMChain(prompt=article_template, llm=llm)\n",
        "llm_chain.run(Data_Science= article_text)"
      ],
      "metadata": {
        "colab": {
          "base_uri": "https://localhost:8080/",
          "height": 88
        },
        "id": "tzBf-a4fqBJj",
        "outputId": "7692daad-c422-46fb-a49d-7df7bc92bc53"
      },
      "execution_count": 65,
      "outputs": [
        {
          "output_type": "execute_result",
          "data": {
            "text/plain": [
              "\"The Samsung Galaxy S25+ US variant has been listed on Geekbench, revealing key specifications. It is expected to run on Android 15, powered by the Snapdragon 8 Gen 4 SoC. The device scored 1,513 points in the single-core test and 4,500 points in the multi-core test. Other details about the phone's design and features are still unknown, but the listing provides an initial glimpse into its performance capabilities.\""
            ],
            "application/vnd.google.colaboratory.intrinsic+json": {
              "type": "string"
            }
          },
          "metadata": {},
          "execution_count": 65
        }
      ]
    },
    {
      "cell_type": "code",
      "source": [],
      "metadata": {
        "id": "CXyNoHjNsOvR"
      },
      "execution_count": 62,
      "outputs": []
    },
    {
      "cell_type": "code",
      "source": [],
      "metadata": {
        "id": "UbiPNpei0qNG"
      },
      "execution_count": null,
      "outputs": []
    }
  ]
}